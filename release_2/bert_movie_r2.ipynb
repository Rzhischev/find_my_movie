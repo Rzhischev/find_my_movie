{
 "cells": [
  {
   "cell_type": "code",
   "execution_count": null,
   "metadata": {},
   "outputs": [],
   "source": [
    "from transformers import AutoTokenizer, AutoModel\n",
    "import torch\n",
    "from sklearn.metrics.pairwise import cosine_similarity\n",
    "import streamlit as st\n",
    "import pandas as pd"
   ]
  },
  {
   "cell_type": "code",
   "execution_count": null,
   "metadata": {},
   "outputs": [],
   "source": [
    "# Загрузка модели и токенизатора BERT\n",
    "tokenizer = AutoTokenizer.from_pretrained(\"bert-base-uncased\")\n",
    "model = AutoModel.from_pretrained(\"bert-base-uncased\")\n",
    "\n",
    "# Функция для получения вектора BERT\n",
    "def get_bert_vector(text):\n",
    "    inputs = tokenizer(text, return_tensors=\"pt\", padding=True, truncation=True, max_length=512)\n",
    "    outputs = model(**inputs)\n",
    "    return outputs.last_hidden_state.mean(dim=1).detach().numpy()"
   ]
  },
  {
   "cell_type": "code",
   "execution_count": null,
   "metadata": {},
   "outputs": [],
   "source": [
    "# Загрузка данных\n",
    "@st.cache\n",
    "def load_data():\n",
    "    return pd.read_csv(\"movies.csv\")\n",
    "\n",
    "data = load_data()\n",
    "\n",
    "# Векторизация описаний фильмов\n",
    "movie_vectors = [get_bert_vector(desc) for desc in data['description']]"
   ]
  },
  {
   "cell_type": "code",
   "execution_count": null,
   "metadata": {},
   "outputs": [],
   "source": [
    "# Streamlit интерфейс\n",
    "st.title(\"Movie Recommender\")\n",
    "\n",
    "user_input = st.text_area(\"Enter a movie description:\")\n",
    "num_movies = st.slider(\"Number of recommendations:\", 1, 10, 5)\n",
    "\n",
    "if st.button(\"Recommend\"):\n",
    "    user_vector = get_bert_vector(user_input)\n",
    "    similarities = cosine_similarity(user_vector, movie_vectors).flatten()\n",
    "    recommended_indices = similarities.argsort()[-num_movies:][::-1]\n",
    "    \n",
    "    st.subheader(\"Recommended Movies:\")\n",
    "    for index in recommended_indices:\n",
    "        st.write(data.iloc[index]['movie_title'])"
   ]
  }
 ],
 "metadata": {
  "language_info": {
   "name": "python"
  },
  "orig_nbformat": 4
 },
 "nbformat": 4,
 "nbformat_minor": 2
}
